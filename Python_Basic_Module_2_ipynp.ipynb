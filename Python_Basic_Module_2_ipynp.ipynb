{
  "nbformat": 4,
  "nbformat_minor": 0,
  "metadata": {
    "colab": {
      "provenance": []
    },
    "kernelspec": {
      "name": "python3",
      "display_name": "Python 3"
    },
    "language_info": {
      "name": "python"
    }
  },
  "cells": [
    {
      "cell_type": "markdown",
      "source": [
        "# Python Basic\n",
        "\n",
        "\n",
        "---\n",
        "\n"
      ],
      "metadata": {
        "id": "On2TU6vu70S_"
      }
    },
    {
      "cell_type": "markdown",
      "source": [
        "**Theory Questions**"
      ],
      "metadata": {
        "id": "TX8FWGmrVlJP"
      }
    },
    {
      "cell_type": "markdown",
      "source": [
        "**Q1.What is Python, and why is it popular ?**\n",
        "\n",
        "\n",
        "\n",
        "\n",
        "\n",
        "\n",
        " ->>   1.Python is a High-level, Interpreted programming language known for its readability and versatility.\n",
        "\n",
        "\n",
        "\n",
        " 2.Python is designed to be easy to understand and write, making it a great choice for beginners and expreienced programmers.\n",
        "\n",
        "\n",
        "\n",
        " 3.It is popular because it is open-source and has a large community that contributes to its entensive libraries and framework.\n",
        "\n",
        "\n",
        " 4.It is wiedly used in Web Development, Data Analysis, Artifical Intelligence and many more.\n",
        "\n",
        "\n",
        "\n",
        "---\n",
        "\n",
        "\n",
        "\n",
        "\n",
        "\n",
        "\n",
        "\n",
        "\n",
        "\n",
        "\n",
        "\n",
        "\n",
        "\n",
        "\n",
        "\n",
        "\n",
        "\n"
      ],
      "metadata": {
        "id": "_0xJO79k8JjH"
      }
    },
    {
      "cell_type": "markdown",
      "source": [
        "**Q2.What is an Interpreter in Python ?**\n",
        "\n",
        "\n",
        "\n",
        " ->>  1.An Interpreter translates and executes code line by line, during runtime.\n",
        "\n",
        " 2.Python is a High level, Interpreted programming language.\n",
        "\n",
        "\n",
        "---\n",
        "\n"
      ],
      "metadata": {
        "id": "pBQV1sPT_1U7"
      }
    },
    {
      "cell_type": "markdown",
      "source": [
        "**Q3.what are pre-defined keywords in python ?**\n",
        "\n",
        "\n",
        "\n",
        "\n",
        "\n",
        "->>  1.Keywords are predefined words that hold a special meaning and have specific purpose in python.\n",
        "\n",
        "2.Keywords are case sensitive and cannot be redefined or overridden within a python program.\n",
        "\n",
        "3.Examples of keywords include if,else,while, for, True, None, etc.\n",
        "\n",
        "\n",
        "---\n",
        "\n"
      ],
      "metadata": {
        "id": "qQ1AoTZLTMy2"
      }
    },
    {
      "cell_type": "markdown",
      "source": [
        "**Q4. Can keywords be used as variable name ?**\n",
        "\n",
        "\n",
        "\n",
        "\n",
        "\n",
        "->> 1.Keywords are predefined words that hold a special meaning and have specific purpose in python and they **cannot be used as Identifiers(Variable names, Function names)**.\n",
        "\n",
        "\n",
        "---\n",
        "\n"
      ],
      "metadata": {
        "id": "pwPXFH11VgC4"
      }
    },
    {
      "cell_type": "markdown",
      "source": [
        "**Q5. What is Mutability in Python ?**\n",
        "\n",
        "\n",
        "\n",
        "\n",
        "\n",
        " ->> 1.Objects/Container whose state or value can be changed after they are created is called Mutuability in Python.\n",
        "\n",
        " 2.Mutuability affects how object are stored and manipulated in memory, impacting performance, memory usage, and concurrency in python program.\n",
        "\n",
        "\n",
        "---\n",
        "\n"
      ],
      "metadata": {
        "id": "ZOQDVEkcWxwU"
      }
    },
    {
      "cell_type": "markdown",
      "source": [
        "**Q6. Why are list Mutuable, tuples are Immutable ?**\n",
        "\n",
        "\n",
        "\n",
        "\n",
        "\n",
        "->> 1.List is Mutuable because it is fexible/dynamic and once created can be changed or modified, because it is dynamic it takes more time than tuple.\n",
        "\n",
        "2.Tuples is Immutable because it is made for fixed data and once created cannot be changed and because it is fixed data it is faster than list.\n",
        "\n",
        "\n",
        "---\n",
        "\n"
      ],
      "metadata": {
        "id": "6z6aZU9vZSfZ"
      }
    },
    {
      "cell_type": "markdown",
      "source": [
        "**Q7.What is the difference between \"==\" and \"is\" operators in python ?**\n",
        "\n",
        "\n",
        "\n",
        "\n",
        "->> 1.\"==\" means 'Equal to' and it is a Comparison Operator and it is used to check if values are equal. The output is given in float(True or False).\n",
        "\n",
        "2.\"is\" means \"True if both refer to same object\" and it is an Identity Operator and it is use to check if the object is same in two variables.\n",
        "\n",
        "\n",
        "---\n",
        "\n"
      ],
      "metadata": {
        "id": "8s2go8KPexLp"
      }
    },
    {
      "cell_type": "markdown",
      "source": [
        "**Q8.What is Logical Operators in Python ?**\n",
        "\n",
        "\n",
        "\n",
        "\n",
        "\n",
        "\n",
        "->> 1.Logical Operators are used to combine Conditional statements. There are three logical operators i.e \"and\", \"or\" and \"not\".\n",
        "\n",
        "2.\"and\" -- True if both are true,\n",
        "   \n",
        "   \"or\" -- True if one is true,\n",
        "\n",
        "   \"not\" -- Reverses the condition\n",
        "\n",
        "\n",
        "---\n",
        "\n"
      ],
      "metadata": {
        "id": "PS75ln3sibyV"
      }
    },
    {
      "cell_type": "markdown",
      "source": [
        "**Q9.What is type-casting in python ?**\n",
        "\n",
        "\n",
        "\n",
        "\n",
        " ->> 1.Type casting is converting a value from one data type to another of a variable.\n",
        "\n",
        " 2.for example : converting the data type of string into integer or from  integer into string .  \n",
        "\n",
        "\n",
        "---\n",
        "\n",
        "\n"
      ],
      "metadata": {
        "id": "v6Gp2sUXmScz"
      }
    },
    {
      "cell_type": "markdown",
      "source": [
        "**Q 10.What is the difference between implicit and explicit type casting ?**\n",
        "\n",
        "\n",
        "\n",
        "\n",
        "\n",
        " ->> 1. 1.Type casting is converting a value from one data type to another of a variable.\n",
        "\n",
        " 2.There are two types of type casting : implicit and explicit\n",
        "\n",
        " 3.Implicit type casting is done automatically by python when it converts one data type to another.\n",
        "\n",
        " 4.Explicit type casting is done manually by the programmer to change the data type from one to another.\n",
        "\n",
        "\n",
        "---\n",
        "\n",
        "\n"
      ],
      "metadata": {
        "id": "YMNN9EdJn6-D"
      }
    },
    {
      "cell_type": "markdown",
      "source": [
        "**Q 11. What is the purpose of conditional statements in python ?**\n",
        "\n",
        "\n",
        "\n",
        "\n",
        "\n",
        " ->> 1.A condition statement is a statement that can be evaluated to True or False.\n",
        "\n",
        " 2.It allows us to execute certain block of code based on whether a condition is True or False.\n",
        "\n",
        "\n",
        "---\n",
        "\n"
      ],
      "metadata": {
        "id": "HoAOr5NCliFA"
      }
    },
    {
      "cell_type": "markdown",
      "source": [
        "**Q 12.How does the elif statement work ?**\n",
        "\n",
        "\n",
        "---\n",
        "\n",
        "\n",
        " ->> 1.\"elif\" (else if) is used after the \"if\" condition become False.\n",
        "\n",
        " 2.It is use to check another condition if the first one is False.  "
      ],
      "metadata": {
        "id": "P3tKXpxHmmr5"
      }
    },
    {
      "cell_type": "markdown",
      "source": [
        "**Q 13. What is the difference between for and while loop ?**\n",
        "\n",
        "\n",
        "\n",
        "---\n",
        "\n",
        "\n",
        "\n",
        "\n",
        "->> 1.loop repeat a block of code multiple times.\n",
        "\n",
        "2.\"for\" loop is used when we know exactly how many times the condition should run.\n",
        "\n",
        "3.\"while\" loop is used when we want to repeat until a condition become false.\n",
        "\n",
        "\n",
        "\n",
        "\n"
      ],
      "metadata": {
        "id": "TfzKyi-Qmphc"
      }
    },
    {
      "cell_type": "markdown",
      "source": [
        "**Q 14. Describe a scenario where a while loop is more suitable than a for loop.**\n",
        "\n",
        "\n",
        "\n",
        "->> 1.since \"while\" loop is used when we want to repeat until a condition become False.\n",
        "\n",
        "2. so a good scenario can be of scanning of products at a retail store where number of products being scanned is not fixed in advance so it would better if we use \"while\" loop instead of \"for\" loop.\n",
        "\n",
        "\n",
        "\n",
        "\n",
        "---\n",
        "\n"
      ],
      "metadata": {
        "id": "GevyVx1ympOo"
      }
    },
    {
      "cell_type": "markdown",
      "source": [
        "# Practical Questions\n",
        "\n",
        "\n",
        "---\n",
        "\n"
      ],
      "metadata": {
        "id": "G8wp5o_qwyeG"
      }
    },
    {
      "cell_type": "code",
      "source": [
        "# 1.Write a Python program to print \"Hello, World!\"\n",
        "\n",
        "a = \"Hello World!\"\n",
        "print(a)"
      ],
      "metadata": {
        "colab": {
          "base_uri": "https://localhost:8080/"
        },
        "id": "YfeLLGrNwx6H",
        "outputId": "ed8f7e51-5b66-46d9-e372-457775fc6fba"
      },
      "execution_count": 38,
      "outputs": [
        {
          "output_type": "stream",
          "name": "stdout",
          "text": [
            "Hello World!\n"
          ]
        }
      ]
    },
    {
      "cell_type": "code",
      "source": [
        "# 2.Write a python program that displays your name and age.\n",
        "\n",
        "name = \"Yash Tayade\"\n",
        "age = 22\n",
        "\n",
        "print(f\"my Name is {name} and I am {age} years old\")"
      ],
      "metadata": {
        "colab": {
          "base_uri": "https://localhost:8080/"
        },
        "id": "EH6Y8SRmYkSu",
        "outputId": "5362fcbf-1014-429d-ebb0-4f124d505065"
      },
      "execution_count": 39,
      "outputs": [
        {
          "output_type": "stream",
          "name": "stdout",
          "text": [
            "my Name is Yash Tayade and I am 22 years old\n"
          ]
        }
      ]
    },
    {
      "cell_type": "code",
      "source": [
        "# 3. Write code to print all the pre-defined keywords in python using the keyword library.\n",
        "\n",
        "import keyword\n",
        "\n",
        "help(\"keywords\")\n"
      ],
      "metadata": {
        "colab": {
          "base_uri": "https://localhost:8080/"
        },
        "id": "ED-OEOlAY72B",
        "outputId": "31b032e8-e207-452a-8b1b-9f5839e2c05b"
      },
      "execution_count": 40,
      "outputs": [
        {
          "output_type": "stream",
          "name": "stdout",
          "text": [
            "\n",
            "Here is a list of the Python keywords.  Enter any keyword to get more help.\n",
            "\n",
            "False               class               from                or\n",
            "None                continue            global              pass\n",
            "True                def                 if                  raise\n",
            "and                 del                 import              return\n",
            "as                  elif                in                  try\n",
            "assert              else                is                  while\n",
            "async               except              lambda              with\n",
            "await               finally             nonlocal            yield\n",
            "break               for                 not                 \n",
            "\n"
          ]
        }
      ]
    },
    {
      "cell_type": "code",
      "source": [
        "# 4. Write a program that checks if a given word is a python keyword.\n",
        "\n",
        "import keyword\n",
        "word=input(\"Enter the word : \")\n",
        "\n",
        "list_keywords=keyword.kwlist\n",
        "\n",
        "if word in list_keywords:\n",
        "  print(\"It is a Keyword\")\n",
        "else:\n",
        "  print(\"It is not a keyword\")\n"
      ],
      "metadata": {
        "colab": {
          "base_uri": "https://localhost:8080/"
        },
        "id": "lc9zDBYkZ0zr",
        "outputId": "8793d343-a6ad-4075-99ee-206801da7af4"
      },
      "execution_count": 41,
      "outputs": [
        {
          "output_type": "stream",
          "name": "stdout",
          "text": [
            "Enter the word : True\n",
            "It is a Keyword\n"
          ]
        }
      ]
    },
    {
      "cell_type": "code",
      "source": [
        "# 5. create a list and tuple in python, and demonstrate how attempting to change an element works differently for each.\n",
        "\n",
        "#list\n",
        "lst_1 = [1, 3.55, True, \"Yash\", 55]\n",
        "print(lst_1)\n",
        "\n",
        "# changing an element in the list\n",
        "\n",
        "lst_1[0] = 3\n",
        "print(f\"list after changing an element is {lst_1}\")\n",
        "\n",
        " # The element in the tuple can be changed because it is mutuable.\n",
        "\n",
        "\n",
        "\n",
        "#tuple\n",
        "tup_1 = (2, 4.53, False, \"ashj\", 85)\n",
        "print(tup_1)\n",
        "\n",
        "#changing an element in th tuple\n",
        "\n",
        "tup_1[3] = True\n",
        "print(f\"tuple after changing an element is {tup_1}\")\n",
        "\n",
        " # The element in the tuple cannot be changed because it is Immutable.\n",
        "\n"
      ],
      "metadata": {
        "colab": {
          "base_uri": "https://localhost:8080/",
          "height": 263
        },
        "id": "QN2wdOlsbVAM",
        "outputId": "7ecace53-5686-46de-d91f-c382725a4f74"
      },
      "execution_count": 42,
      "outputs": [
        {
          "output_type": "stream",
          "name": "stdout",
          "text": [
            "[1, 3.55, True, 'Yash', 55]\n",
            "list after changing an element is [3, 3.55, True, 'Yash', 55]\n",
            "(2, 4.53, False, 'ashj', 85)\n"
          ]
        },
        {
          "output_type": "error",
          "ename": "TypeError",
          "evalue": "'tuple' object does not support item assignment",
          "traceback": [
            "\u001b[0;31m---------------------------------------------------------------------------\u001b[0m",
            "\u001b[0;31mTypeError\u001b[0m                                 Traceback (most recent call last)",
            "\u001b[0;32m/tmp/ipython-input-1936883943.py\u001b[0m in \u001b[0;36m<cell line: 0>\u001b[0;34m()\u001b[0m\n\u001b[1;32m     20\u001b[0m \u001b[0;31m#changing an element in th tuple\u001b[0m\u001b[0;34m\u001b[0m\u001b[0;34m\u001b[0m\u001b[0m\n\u001b[1;32m     21\u001b[0m \u001b[0;34m\u001b[0m\u001b[0m\n\u001b[0;32m---> 22\u001b[0;31m \u001b[0mtup_1\u001b[0m\u001b[0;34m[\u001b[0m\u001b[0;36m3\u001b[0m\u001b[0;34m]\u001b[0m \u001b[0;34m=\u001b[0m \u001b[0;32mTrue\u001b[0m\u001b[0;34m\u001b[0m\u001b[0;34m\u001b[0m\u001b[0m\n\u001b[0m\u001b[1;32m     23\u001b[0m \u001b[0mprint\u001b[0m\u001b[0;34m(\u001b[0m\u001b[0;34mf\"tuple after changing an element is {tup_1}\"\u001b[0m\u001b[0;34m)\u001b[0m\u001b[0;34m\u001b[0m\u001b[0;34m\u001b[0m\u001b[0m\n\u001b[1;32m     24\u001b[0m \u001b[0;34m\u001b[0m\u001b[0m\n",
            "\u001b[0;31mTypeError\u001b[0m: 'tuple' object does not support item assignment"
          ]
        }
      ]
    },
    {
      "cell_type": "code",
      "source": [
        "# 6.write a function to demonstrate the behaviour of mutuable and immutable arguments.\n",
        "\n",
        "#list\n",
        "\n",
        "def mutable() :\n",
        "  lst_2 = [5,6.90,\"python\",True]\n",
        "  print(f\"original list : {lst_2}\")\n",
        "\n",
        "  # changing an element in the list\n",
        "  lst_2[2] = \"Tool\"\n",
        "  print(f\"changing an element in the list : {lst_2} \")\n",
        "\n",
        "\n",
        "#tuple\n",
        "\n",
        "def immutable() :\n",
        "  tup_2 = (7,6.24,\"google\", False)\n",
        "  print(f\"original tuple : {tup_2}\")\n",
        "\n",
        "  # changing an element in the tuple\n",
        "  try:\n",
        "    tup_2[0] = 2\n",
        "    print(\"tuple after changing an element : {tup_2}\")\n",
        "  except:\n",
        "    print(\"tuple is immutable\")\n",
        "\n",
        "mutable()\n",
        "immutable()\n",
        "\n",
        "\n",
        "\n",
        "\n"
      ],
      "metadata": {
        "colab": {
          "base_uri": "https://localhost:8080/"
        },
        "id": "AeNmCR0JwwDL",
        "outputId": "5474bc36-8455-4fcb-b95b-a8bbfe1c35fd"
      },
      "execution_count": 43,
      "outputs": [
        {
          "output_type": "stream",
          "name": "stdout",
          "text": [
            "original list : [5, 6.9, 'python', True]\n",
            "changing an element in the list : [5, 6.9, 'Tool', True] \n",
            "original tuple : (7, 6.24, 'google', False)\n",
            "tuple is immutable\n"
          ]
        }
      ]
    },
    {
      "cell_type": "code",
      "source": [
        "# 7. Write a program that performs basic arithmetic operations on two user-input numbers.\n",
        "\n",
        "a = int(input(\"First Number : \"))\n",
        "b = int(input(\"Second Number : \"))\n",
        "\n",
        "print(f\" Addition of {a} and {b} is {a + b}\")\n",
        "\n",
        "print(f\" Subtraction of {a} and {b} is {a - b}\")\n",
        "\n",
        "print(f\" Multiplication of {a} and {b} is {a * b}\")\n",
        "\n",
        "print(f\" Division of {a} and {b} is {a / b}\")\n",
        "\n",
        "print(f\" Modulus of {a} and {b} is {a % b}\")\n",
        "\n",
        "print(f\" Exponent of {a} and {b} is {a ** b}\")\n",
        "\n",
        "print(f\" Floor Division of {a} and {b} is {a // b}\")"
      ],
      "metadata": {
        "colab": {
          "base_uri": "https://localhost:8080/"
        },
        "id": "UdXx0ZLHy7Rp",
        "outputId": "8c2e7a05-6257-407c-8d21-80474030920f"
      },
      "execution_count": 44,
      "outputs": [
        {
          "output_type": "stream",
          "name": "stdout",
          "text": [
            "First Number : 50\n",
            "Second Number : 30\n",
            " Addition of 50 and 30 is 80\n",
            " Subtraction of 50 and 30 is 20\n",
            " Multiplication of 50 and 30 is 1500\n",
            " Division of 50 and 30 is 1.6666666666666667\n",
            " Modulus of 50 and 30 is 20\n",
            " Exponent of 50 and 30 is 931322574615478515625000000000000000000000000000000\n",
            " Floor Division of 50 and 30 is 1\n"
          ]
        }
      ]
    },
    {
      "cell_type": "code",
      "source": [
        "# 8. Write a program to demonstrate the use of logical operators.\n",
        "\n",
        "\n",
        "# and\n",
        "power = 70\n",
        "energy = 45\n",
        "\n",
        "print(f\" Special mode active : {power > 60 and energy > 40}\")\n",
        "\n",
        "# or\n",
        "print(f\" Special mode active : {power < 60 or energy > 40}\")\n",
        "\n",
        "#not\n",
        "print(f\" Special mode active : {not(power >  60 and energy < 40)}\")\n"
      ],
      "metadata": {
        "colab": {
          "base_uri": "https://localhost:8080/"
        },
        "id": "DbnDcQUA7dYG",
        "outputId": "01e13461-3fc1-49ef-96dc-b814c649cfbc"
      },
      "execution_count": 45,
      "outputs": [
        {
          "output_type": "stream",
          "name": "stdout",
          "text": [
            " Special mode active : True\n",
            " Special mode active : True\n",
            " Special mode active : True\n"
          ]
        }
      ]
    },
    {
      "cell_type": "code",
      "source": [
        "# 9. Write a python program to convert user input from string to integer, float, boolean types.\n",
        "\n",
        "a = input(\"Enter the Number : \")\n",
        "print(f\"First Number is String : {a}\")\n",
        "\n",
        "if a.isdigit() :\n",
        "  print(f\" Second Number is Integer : {int(a)}\")\n",
        "  print(f\" Third Number is Float : {float(a)}\")\n",
        "  print(f\" Fourth Number is Boolean : {bool(a)}\")\n",
        "else :\n",
        "  print(\"Enter a Valid Input\")"
      ],
      "metadata": {
        "colab": {
          "base_uri": "https://localhost:8080/"
        },
        "id": "DmQjURn6_DYc",
        "outputId": "b4c29eb2-2e56-4bec-f434-0d2f03a9c218"
      },
      "execution_count": 46,
      "outputs": [
        {
          "output_type": "stream",
          "name": "stdout",
          "text": [
            "Enter the Number : 55\n",
            "First Number is String : 55\n",
            " Second Number is Integer : 55\n",
            " Third Number is Float : 55.0\n",
            " Fourth Number is Boolean : True\n"
          ]
        }
      ]
    },
    {
      "cell_type": "code",
      "source": [
        "# 10. Write code to demonstrate type casting with list elements.\n",
        "\n",
        "lst_5 = [\"Yash\", True, 30, 4.16, \" \"]\n",
        "print(lst_5)\n",
        "\n",
        "print(type(lst_5[3])) # float\n",
        "\n",
        "lst_5[3] = int(45) # typecasting - converted from float to integer\n",
        "\n",
        "print(type(lst_5[3])) # integer\n",
        "\n",
        "print(lst_5)"
      ],
      "metadata": {
        "colab": {
          "base_uri": "https://localhost:8080/"
        },
        "id": "UbkYwVS2CCdm",
        "outputId": "5d3ba482-5782-4dca-f09f-180ac1167a3b"
      },
      "execution_count": 47,
      "outputs": [
        {
          "output_type": "stream",
          "name": "stdout",
          "text": [
            "['Yash', True, 30, 4.16, ' ']\n",
            "<class 'float'>\n",
            "<class 'int'>\n",
            "['Yash', True, 30, 45, ' ']\n"
          ]
        }
      ]
    },
    {
      "cell_type": "code",
      "source": [
        "# 11. Write a program that checks if a number is positive, negative, or zero.\n",
        "\n",
        "a = int(input(\"Entre the Number : \"))\n",
        "\n",
        "if a > 0 :\n",
        "  print(\"Nmber is Positive \")\n",
        "elif a < 0 :\n",
        "  print(\"Number is Negative\")\n",
        "else :\n",
        "  print(\"Number is Zero\")"
      ],
      "metadata": {
        "colab": {
          "base_uri": "https://localhost:8080/"
        },
        "id": "Kw05ezpTFUIY",
        "outputId": "833a8ac8-151f-431d-9a7b-01df10a692df"
      },
      "execution_count": 48,
      "outputs": [
        {
          "output_type": "stream",
          "name": "stdout",
          "text": [
            "Entre the Number : -55\n",
            "Number is Negative\n"
          ]
        }
      ]
    },
    {
      "cell_type": "code",
      "source": [
        "# 12. Write a for loop to print numbers from 1 to 10.\n",
        "\n",
        "for i in range(1, 11) :\n",
        "  print(i)\n"
      ],
      "metadata": {
        "colab": {
          "base_uri": "https://localhost:8080/"
        },
        "id": "z2C-IbDHKl6P",
        "outputId": "a8ce3bae-9a20-4435-cd12-24034b9922d0"
      },
      "execution_count": 49,
      "outputs": [
        {
          "output_type": "stream",
          "name": "stdout",
          "text": [
            "1\n",
            "2\n",
            "3\n",
            "4\n",
            "5\n",
            "6\n",
            "7\n",
            "8\n",
            "9\n",
            "10\n"
          ]
        }
      ]
    },
    {
      "cell_type": "code",
      "source": [
        "# 13. Write a python program to find the sum of all even numbers between 1 and 50.\n",
        "\n",
        "even_number = 0\n",
        "\n",
        "for i in range(2, 51, 2) :\n",
        "  even_number = even_number + i\n",
        "print(f\"Sum of all Even Numbers : {even_number}\")\n",
        "\n"
      ],
      "metadata": {
        "colab": {
          "base_uri": "https://localhost:8080/"
        },
        "id": "gBv43T_ELt-X",
        "outputId": "436e721d-a88e-4a30-a8e7-d66ad9bb4174"
      },
      "execution_count": 61,
      "outputs": [
        {
          "output_type": "stream",
          "name": "stdout",
          "text": [
            "Sum of all Even Numbers : 650\n"
          ]
        }
      ]
    },
    {
      "cell_type": "code",
      "source": [
        "# 14. Write a program to reverse a string using a while loop.\n",
        "\n",
        "string = input(\"Entre the string :\")\n",
        "\n",
        "i = len(string) - 1\n",
        "while i >= 0 :\n",
        "  print(string[i], end=\"\")\n",
        "  i = i - 1\n"
      ],
      "metadata": {
        "colab": {
          "base_uri": "https://localhost:8080/"
        },
        "id": "BjKoZToaMmUv",
        "outputId": "874d77c0-cbdb-45af-9ae7-e1468bd576b4"
      },
      "execution_count": 62,
      "outputs": [
        {
          "output_type": "stream",
          "name": "stdout",
          "text": [
            "Entre the string :start\n",
            "trats"
          ]
        }
      ]
    },
    {
      "cell_type": "code",
      "source": [
        "# 15. Write a python program to calculate the factorial of a number provided by the user using a while loop.\n",
        "\n",
        "num = int(input(\"Enter a Number :\"))\n",
        "\n",
        "fact = 1\n",
        "i = 1\n",
        "\n",
        "while i <= num :\n",
        "  fact = fact * i\n",
        "  i = i + 1\n",
        "print(f\"Factorial : {fact}\")"
      ],
      "metadata": {
        "colab": {
          "base_uri": "https://localhost:8080/"
        },
        "id": "Yphb4p0NRd0w",
        "outputId": "adfa1fc3-752b-4540-95f0-3cf2ce283252"
      },
      "execution_count": 69,
      "outputs": [
        {
          "output_type": "stream",
          "name": "stdout",
          "text": [
            "Enter a Number :5\n",
            "Factorial : 120\n"
          ]
        }
      ]
    }
  ]
}